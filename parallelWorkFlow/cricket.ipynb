{
 "cells": [
  {
   "cell_type": "code",
   "execution_count": 25,
   "id": "4958aafb",
   "metadata": {},
   "outputs": [],
   "source": [
    "from langgraph.graph import StateGraph, START, END\n",
    "from typing import TypedDict\n",
    "from langchain_google_genai import GoogleGenerativeAI\n",
    "from dotenv import load_dotenv"
   ]
  },
  {
   "cell_type": "code",
   "execution_count": 3,
   "id": "7d80365f",
   "metadata": {},
   "outputs": [
    {
     "data": {
      "text/plain": [
       "True"
      ]
     },
     "execution_count": 3,
     "metadata": {},
     "output_type": "execute_result"
    }
   ],
   "source": [
    "load_dotenv()"
   ]
  },
  {
   "cell_type": "code",
   "execution_count": 4,
   "id": "081ae1a8",
   "metadata": {},
   "outputs": [],
   "source": [
    "model = GoogleGenerativeAI(model=\"gemini-1.5-pro\")"
   ]
  },
  {
   "cell_type": "code",
   "execution_count": 14,
   "id": "adc185b8",
   "metadata": {},
   "outputs": [],
   "source": [
    "class BatsmanState(TypedDict):\n",
    "    runs:int\n",
    "    balls: int\n",
    "    fours: int\n",
    "    sixes: int\n",
    "    \n",
    "    sr: float\n",
    "    bpb: float # balls per boundary\n",
    "    bp: float # boundaries per ball\n",
    "    summary : str"
   ]
  },
  {
   "cell_type": "code",
   "execution_count": 19,
   "id": "206540de",
   "metadata": {},
   "outputs": [],
   "source": [
    "def cal_sr(state: BatsmanState) -> BatsmanState:\n",
    "    sr = (state['runs'] / state['balls']) * 100\n",
    "    return {'sr': sr}\n",
    "\n",
    "def cal_bpb(state: BatsmanState) -> BatsmanState:\n",
    "    bpb = state['balls'] / (state['fours'] + state['sixes'])\n",
    "    return {'bpb':bpb}\n",
    "\n",
    "def cal_bp(state: BatsmanState) -> BatsmanState:\n",
    "    bp= (((state['fours']*4) + (state['sixes']*6))/state['runs'])*100\n",
    "    return {'bp': bp}\n",
    "\n",
    "def summary(state: BatsmanState) -> str:\n",
    "    state['summary'] = (\n",
    "        f\"Batsman Summary:\\n\"\n",
    "        f\"Runs: {state['runs']}\\n\"\n",
    "        f\"Balls: {state['balls']}\\n\"\n",
    "        f\"Fours: {state['fours']}\\n\"\n",
    "        f\"Sixes: {state['sixes']}\\n\"\n",
    "        f\"Strike Rate: {state['sr']:.2f}\\n\"\n",
    "        f\"Balls per Boundary: {state['bpb']:.2f}\\n\"\n",
    "        f\"Balls per Run: {state['bp']:.2f}\"\n",
    "    )\n",
    "    return state"
   ]
  },
  {
   "cell_type": "code",
   "execution_count": 20,
   "id": "c91e3dc8",
   "metadata": {},
   "outputs": [
    {
     "data": {
      "text/plain": [
       "<langgraph.graph.state.StateGraph at 0x21f6947a850>"
      ]
     },
     "execution_count": 20,
     "metadata": {},
     "output_type": "execute_result"
    }
   ],
   "source": [
    "graph = StateGraph(BatsmanState)\n",
    "\n",
    "graph.add_node('cal_sr',cal_sr)\n",
    "graph.add_node('cal_bpb',cal_bpb)\n",
    "graph.add_node('cal_bp',cal_bp) \n",
    "graph.add_node('summary',summary)\n",
    "\n",
    "graph.add_edge(START, 'cal_sr')\n",
    "graph.add_edge(START, 'cal_bpb')\n",
    "graph.add_edge(START, 'cal_bp')\n",
    "\n",
    "graph.add_edge('cal_sr', 'summary')\n",
    "graph.add_edge('cal_bpb', 'summary')\n",
    "graph.add_edge('cal_bp', 'summary')\n",
    "\n",
    "graph.add_edge('summary', END)"
   ]
  },
  {
   "cell_type": "code",
   "execution_count": 21,
   "id": "3fb384f1",
   "metadata": {},
   "outputs": [
    {
     "data": {
      "image/png": "[encoded data removed]",
      "text/plain": [
       "<langgraph.graph.state.CompiledStateGraph object at 0x0000021F6947A5D0>"
      ]
     },
     "execution_count": 21,
     "metadata": {},
     "output_type": "execute_result"
    }
   ],
   "source": [
    "workflow = graph.compile()\n",
    "workflow"
   ]
  },
  {
   "cell_type": "code",
   "execution_count": 22,
   "id": "c80a6abe",
   "metadata": {},
   "outputs": [
    {
     "data": {
      "text/plain": [
       "{'runs': 123,\n",
       " 'balls': 100,\n",
       " 'fours': 10,\n",
       " 'sixes': 5,\n",
       " 'sr': 123.0,\n",
       " 'bpb': 6.666666666666667,\n",
       " 'bp': 56.91056910569105,\n",
       " 'summary': 'Batsman Summary:\\nRuns: 123\\nBalls: 100\\nFours: 10\\nSixes: 5\\nStrike Rate: 123.00\\nBalls per Boundary: 6.67\\nBalls per Run: 56.91'}"
      ]
     },
     "execution_count": 22,
     "metadata": {},
     "output_type": "execute_result"
    }
   ],
   "source": [
    "inital_state = {'runs':123,'balls': 100, 'fours': 10, 'sixes': 5}\n",
    "workflow.invoke(inital_state)"
   ]
  },
  {
   "cell_type": "code",
   "execution_count": null,
   "id": "0eaba685",
   "metadata": {},
   "outputs": [],
   "source": []
  }
 ],
 "metadata": {
  "kernelspec": {
   "display_name": "myenv",
   "language": "python",
   "name": "python3"
  },
  "language_info": {
   "codemirror_mode": {
    "name": "ipython",
    "version": 3
   },
   "file_extension": ".py",
   "mimetype": "text/x-python",
   "name": "python",
   "nbconvert_exporter": "python",
   "pygments_lexer": "ipython3",
   "version": "3.13.5"
  }
 },
 "nbformat": 4,
 "nbformat_minor": 5
}
