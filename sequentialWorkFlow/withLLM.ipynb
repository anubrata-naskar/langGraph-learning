{
 "cells": [
  {
   "cell_type": "code",
   "execution_count": 3,
   "id": "df0a76cc",
   "metadata": {},
   "outputs": [],
   "source": [
    "from langgraph.graph import StateGraph, START, END\n",
    "from typing import TypedDict\n",
    "from langchain_google_genai import GoogleGenerativeAI\n",
    "from dotenv import load_dotenv"
   ]
  },
  {
   "cell_type": "code",
   "execution_count": 4,
   "id": "75449183",
   "metadata": {},
   "outputs": [
    {
     "data": {
      "text/plain": [
       "True"
      ]
     },
     "execution_count": 4,
     "metadata": {},
     "output_type": "execute_result"
    }
   ],
   "source": [
    "load_dotenv()"
   ]
  },
  {
   "cell_type": "code",
   "execution_count": 8,
   "id": "87cfe189",
   "metadata": {},
   "outputs": [],
   "source": [
    "model = GoogleGenerativeAI(model=\"gemini-1.5-pro\")"
   ]
  },
  {
   "cell_type": "code",
   "execution_count": 12,
   "id": "77c7fef4",
   "metadata": {},
   "outputs": [],
   "source": [
    "class LLMState(TypedDict):\n",
    "    qs: str\n",
    "    answer: str"
   ]
  },
  {
   "cell_type": "code",
   "execution_count": 22,
   "id": "75c99e23",
   "metadata": {},
   "outputs": [],
   "source": [
    "def llm_qa(state: LLMState) -> LLMState:\n",
    "    qs = state[\"qs\"]\n",
    "    \n",
    "    prompt = f\"Answer the following question: {qs}\"\n",
    "    response = model.invoke(prompt)\n",
    "    \n",
    "    state[\"answer\"] = response\n",
    "    return state"
   ]
  },
  {
   "cell_type": "code",
   "execution_count": 23,
   "id": "29f9653b",
   "metadata": {},
   "outputs": [
    {
     "data": {
      "text/plain": [
       "<langgraph.graph.state.StateGraph at 0x2d51dbd6b10>"
      ]
     },
     "execution_count": 23,
     "metadata": {},
     "output_type": "execute_result"
    }
   ],
   "source": [
    "graph = StateGraph(LLMState)\n",
    "\n",
    "graph.add_node(\"llm_qa\",llm_qa)\n",
    "graph.add_edge(START,\"llm_qa\")\n",
    "graph.add_edge(\"llm_qa\", END)\n"
   ]
  },
  {
   "cell_type": "code",
   "execution_count": 24,
   "id": "7a6a6674",
   "metadata": {},
   "outputs": [],
   "source": [
    "workflow = graph.compile()"
   ]
  },
  {
   "cell_type": "code",
   "execution_count": null,
   "id": "0c061f69",
   "metadata": {},
   "outputs": [
    {
     "name": "stdout",
     "output_type": "stream",
     "text": [
      "{'qs': 'What is the capital of France?', 'answer': 'Paris'}\n"
     ]
    }
   ],
   "source": [
    "inital_state = {\"qs\": \"What is the capital of France?\"}\n",
    "\n",
    "answer = workflow.invoke(inital_state)\n",
    "print(answer) "
   ]
  },
  {
   "cell_type": "code",
   "execution_count": null,
   "id": "35dbb476",
   "metadata": {},
   "outputs": [],
   "source": []
  }
 ],
 "metadata": {
  "kernelspec": {
   "display_name": "myenv",
   "language": "python",
   "name": "python3"
  },
  "language_info": {
   "codemirror_mode": {
    "name": "ipython",
    "version": 3
   },
   "file_extension": ".py",
   "mimetype": "text/x-python",
   "name": "python",
   "nbconvert_exporter": "python",
   "pygments_lexer": "ipython3",
   "version": "3.13.5"
  }
 },
 "nbformat": 4,
 "nbformat_minor": 5
}
