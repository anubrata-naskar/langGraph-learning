{
 "cells": [
  {
   "cell_type": "code",
   "execution_count": 2,
   "id": "22d73d5d",
   "metadata": {},
   "outputs": [],
   "source": [
    "from langgraph.graph import StateGraph, START, END\n",
    "from typing import TypedDict\n",
    "from langchain_google_genai import GoogleGenerativeAI\n",
    "from dotenv import load_dotenv"
   ]
  },
  {
   "cell_type": "code",
   "execution_count": 3,
   "id": "43f027e1",
   "metadata": {},
   "outputs": [
    {
     "data": {
      "text/plain": [
       "True"
      ]
     },
     "execution_count": 3,
     "metadata": {},
     "output_type": "execute_result"
    }
   ],
   "source": [
    "load_dotenv()"
   ]
  },
  {
   "cell_type": "code",
   "execution_count": 11,
   "id": "08795342",
   "metadata": {},
   "outputs": [],
   "source": [
    "model = GoogleGenerativeAI(model=\"gemini-1.5-pro\")"
   ]
  },
  {
   "cell_type": "code",
   "execution_count": 12,
   "id": "6f3f4e0d",
   "metadata": {},
   "outputs": [],
   "source": [
    "class BlogState(TypedDict):\n",
    "    title: str\n",
    "    outline: str\n",
    "    content: str"
   ]
  },
  {
   "cell_type": "code",
   "execution_count": 13,
   "id": "31fa8f27",
   "metadata": {},
   "outputs": [],
   "source": [
    "def create_outline(state: BlogState) -> BlogState:\n",
    "    prompt = f\"Create an outline for a blog post titled '{state['title']}'\"\n",
    "    response = model.invoke(prompt)\n",
    "    state['outline'] = response\n",
    "    return state\n",
    "\n",
    "def create_blog(state: BlogState) -> BlogState:\n",
    "    prompt = f\"Create a blog post based on the title :{state['title']} on following outline: {state['outline']}\"\n",
    "    response = model.invoke(prompt)\n",
    "    state['content'] = response\n",
    "    return state"
   ]
  },
  {
   "cell_type": "code",
   "execution_count": 14,
   "id": "f3fcf895",
   "metadata": {},
   "outputs": [],
   "source": [
    "graph = StateGraph(BlogState)\n",
    "\n",
    "graph.add_node('create_outline',create_outline)\n",
    "graph.add_node('create_blog',create_blog)\n",
    "\n",
    "graph.add_edge(START, 'create_outline')\n",
    "graph.add_edge('create_outline', 'create_blog')\n",
    "graph.add_edge('create_blog', END)\n",
    "\n",
    "workflow = graph.compile()"
   ]
  },
  {
   "cell_type": "code",
   "execution_count": 15,
   "id": "f27c38bb",
   "metadata": {},
   "outputs": [
    {
     "name": "stdout",
     "output_type": "stream",
     "text": [
      "{'title': 'raise AI in india', 'outline': '## Blog Post Outline: Raise AI in India\\n\\n**Title:** Raise AI in India: Cultivating the Next Generation of Artificial Intelligence\\n\\n**Introduction:**\\n\\n* Hook: Start with a compelling statistic or anecdote about India\\'s growing AI potential or a current challenge it faces.\\n* Briefly define the scope of AI and its importance in the 21st century.\\n* Thesis statement:  India has the potential to become a global leader in AI, but strategic investments in education, research, and infrastructure are crucial to \"raising\" this technology effectively.\\n\\n**Body Paragraph 1:  Nurturing the Roots: Education and Skill Development**\\n\\n* Highlight the current state of AI education in India (both positive and negative aspects).\\n* Emphasize the need for integrating AI concepts into school curricula at all levels.\\n* Discuss the importance of reskilling and upskilling the existing workforce to meet the demands of the AI industry.\\n* Suggest specific initiatives like government-funded scholarships, online courses, and partnerships with international institutions.\\n\\n**Body Paragraph 2: Fostering Growth: Research and Development**\\n\\n* Discuss the importance of investing in cutting-edge AI research and development.\\n* Highlight existing research institutions and their contributions.\\n* Address the need for increased funding for AI research projects.\\n* Suggest creating dedicated AI research centers and encouraging collaboration between academia and industry.\\n* Explore areas of research where India can specialize, such as AI for social good, healthcare, and agriculture.\\n\\n**Body Paragraph 3: Building the Ecosystem: Infrastructure and Support**\\n\\n* Discuss the need for robust digital infrastructure to support AI development (e.g., high-speed internet, data centers).\\n* Highlight the importance of creating a supportive regulatory environment for AI startups and businesses.\\n* Discuss the role of government policies in promoting AI adoption and innovation.\\n* Suggest initiatives like tax breaks for AI companies, data sharing policies, and ethical guidelines for AI development.\\n\\n**Body Paragraph 4: Addressing Challenges: Ethical Considerations and Inclusivity**\\n\\n* Acknowledge potential challenges such as job displacement, bias in algorithms, and data privacy concerns.\\n* Emphasize the importance of developing ethical guidelines and regulations for AI.\\n* Discuss the need for inclusive AI development that benefits all segments of society.\\n* Suggest creating platforms for public discourse and engagement on AI ethics.\\n\\n**Conclusion:**\\n\\n* Reiterate the importance of \"raising AI\" in India for the country\\'s future growth and global competitiveness.\\n* Offer a call to action, encouraging readers to support initiatives that promote AI education, research, and development in India.\\n* End with a hopeful and inspiring message about India\\'s potential to become a global AI powerhouse.\\n\\n\\n**Optional additions:**\\n\\n* Case studies of successful Indian AI startups or initiatives.\\n* Interviews with experts in the Indian AI landscape.\\n* Infographics and data visualizations to illustrate key points.\\n\\n\\nThis outline provides a framework for a comprehensive blog post on raising AI in India.  You can adjust the focus and depth of each section based on your target audience and the specific message you want to convey.', 'content': \"## Raise AI in India: Cultivating the Next Generation of Artificial Intelligence\\n\\nIndia's burgeoning IT sector is on the cusp of a new revolution: Artificial Intelligence.  By some estimates, AI could add over $957 billion to India's economy by 2035. But realizing this potential requires more than just recognizing the opportunity; it demands a concerted effort to cultivate and nurture AI from its roots. We need to *raise AI* in India.  This means strategic investments in education, research, and infrastructure are crucial to harnessing the transformative power of this technology.\\n\\nArtificial intelligence, encompassing machine learning, deep learning, and other cognitive technologies, is rapidly reshaping industries and societies worldwide. In the 21st century, AI proficiency is no longer a luxury but a necessity for national competitiveness.  India has the potential to become a global leader in this field, but only with a focused and comprehensive approach.\\n\\n**Nurturing the Roots: Education and Skill Development**\\n\\nWhile India boasts a strong STEM talent pool, AI education remains fragmented.  While some premier institutions offer specialized AI programs, access remains limited.  To truly raise AI, we must integrate AI concepts into school curricula at all levels, from primary school to higher education. This will create a foundation of AI literacy for future generations.  Equally crucial is reskilling and upskilling the existing workforce.  Government-funded scholarships for AI specialization, accessible online courses, and partnerships with international institutions can bridge the skills gap and prepare the workforce for the jobs of the future.\\n\\n**Fostering Growth: Research and Development**\\n\\nInvestment in cutting-edge AI research and development is paramount. Institutions like the Indian Institute of Science and the IITs are making significant contributions, but more is needed. Increased funding for AI research projects, the establishment of dedicated AI research centers, and fostering collaboration between academia and industry are essential. India can carve a niche by focusing on AI for social good, addressing challenges in healthcare, agriculture, and other critical sectors.  Imagine AI-powered diagnostic tools for rural areas or precision farming techniques that optimize yields and conserve resources.\\n\\n**Building the Ecosystem: Infrastructure and Support**\\n\\nAI thrives on data, and robust digital infrastructure is its lifeblood.  High-speed internet access, widespread availability of data centers, and efficient data sharing frameworks are crucial.  A supportive regulatory environment is equally important.  Government policies should encourage AI startups and businesses through tax breaks, streamlined regulations, and clear data sharing guidelines.  This will foster innovation and attract investment, creating a vibrant AI ecosystem.\\n\\n**Addressing Challenges: Ethical Considerations and Inclusivity**\\n\\nThe rise of AI brings its own set of challenges.  Job displacement, algorithmic bias, and data privacy concerns must be addressed proactively.  Developing ethical guidelines and regulations for AI development and deployment is crucial.  We need inclusive AI that benefits all segments of society, not just a privileged few. Platforms for public discourse and engagement on AI ethics will ensure a responsible and equitable trajectory for this powerful technology.\\n\\nRaising AI in India is not just a technological imperative; it's an investment in the nation's future.  By nurturing education, fostering research, building a supportive ecosystem, and addressing ethical considerations, India can unlock the immense potential of AI and become a global leader in this transformative field.  Let's work together to cultivate the next generation of artificial intelligence and empower India to lead the AI revolution.  The future is intelligent, and India can be at its forefront.\"}\n"
     ]
    }
   ],
   "source": [
    "initial_state = {'title':'raise AI in india'}\n",
    "answer = workflow.invoke(initial_state)\n",
    "print(answer)"
   ]
  },
  {
   "cell_type": "code",
   "execution_count": null,
   "id": "9e47bfd9",
   "metadata": {},
   "outputs": [],
   "source": []
  }
 ],
 "metadata": {
  "kernelspec": {
   "display_name": "myenv",
   "language": "python",
   "name": "python3"
  },
  "language_info": {
   "codemirror_mode": {
    "name": "ipython",
    "version": 3
   },
   "file_extension": ".py",
   "mimetype": "text/x-python",
   "name": "python",
   "nbconvert_exporter": "python",
   "pygments_lexer": "ipython3",
   "version": "3.13.5"
  }
 },
 "nbformat": 4,
 "nbformat_minor": 5
}
