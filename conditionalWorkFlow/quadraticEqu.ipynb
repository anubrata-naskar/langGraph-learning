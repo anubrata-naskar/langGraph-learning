{
 "cells": [
  {
   "cell_type": "code",
   "execution_count": 1,
   "id": "e01d2c73",
   "metadata": {},
   "outputs": [],
   "source": [
    "from langgraph.graph import StateGraph, START, END\n",
    "from typing import TypedDict,Literal\n",
    "from langchain_google_genai import GoogleGenerativeAI\n",
    "from pydantic import BaseModel, Field\n",
    "from dotenv import load_dotenv"
   ]
  },
  {
   "cell_type": "code",
   "execution_count": 2,
   "id": "b0d7cbb7",
   "metadata": {},
   "outputs": [
    {
     "data": {
      "text/plain": [
       "True"
      ]
     },
     "execution_count": 2,
     "metadata": {},
     "output_type": "execute_result"
    }
   ],
   "source": [
    "load_dotenv()"
   ]
  },
  {
   "cell_type": "code",
   "execution_count": 3,
   "id": "182c2438",
   "metadata": {},
   "outputs": [],
   "source": [
    "model = GoogleGenerativeAI(model=\"gemini-1.5-pro\")"
   ]
  },
  {
   "cell_type": "code",
   "execution_count": 4,
   "id": "70883c63",
   "metadata": {},
   "outputs": [],
   "source": [
    "class QuadState(TypedDict):\n",
    "    a: int\n",
    "    b: int\n",
    "    c: int\n",
    "    \n",
    "    equa: str\n",
    "    d: float\n",
    "    result: str"
   ]
  },
  {
   "cell_type": "code",
   "execution_count": 5,
   "id": "4bc290a3",
   "metadata": {},
   "outputs": [],
   "source": [
    "def show_equation(state: QuadState) -> QuadState:\n",
    "    equation = f'{state[\"a\"]}x^2 + {state[\"b\"]}x + {state[\"c\"]} = 0'\n",
    "    return {'equa': equation}\n",
    "\n",
    "def cal_d(state: QuadState) -> QuadState:\n",
    "    a, b, c = state['a'], state['b'], state['c']\n",
    "    d = (b**2) - (4*a*c)\n",
    "    return {'d': d}\n",
    "\n",
    "def real_roots(state: QuadState) -> QuadState:\n",
    "    root1 = (-state['b']+state['d']**0.5) / (2*state['a'])\n",
    "    root2 = (-state['b']-state['d']**0.5) / (2*state['a'])\n",
    "    \n",
    "    result = f'The real roots are {root1} and {root2}'\n",
    "    return {'result': result}\n",
    "\n",
    "def repeated_roots(state: QuadState) -> QuadState:\n",
    "    root = -state['b'] / (2*state['a'])\n",
    "    result = f'The repeated root is {root}'\n",
    "    return {'result': result}\n",
    "\n",
    "def no_real_roots(state: QuadState) -> QuadState:\n",
    "    result = 'There are no real roots'\n",
    "    return {'result': result}\n",
    "\n",
    "def check_condition(state: QuadState) -> Literal[\"real_roots\", \"repeated_roots\", \"no_real_roots\"]:\n",
    "    if state['d'] > 0:\n",
    "        return \"real_roots\"\n",
    "    elif state['d'] == 0:\n",
    "        return \"repeated_roots\"\n",
    "    else:\n",
    "        return \"no_real_roots\""
   ]
  },
  {
   "cell_type": "code",
   "execution_count": 18,
   "id": "bc22b025",
   "metadata": {},
   "outputs": [],
   "source": [
    "graph = StateGraph(QuadState)\n",
    "\n",
    "graph.add_node('show_equation',show_equation)\n",
    "graph.add_node('cal_d',cal_d)\n",
    "graph.add_node('real_roots',real_roots)\n",
    "graph.add_node('repeated_roots',repeated_roots)\n",
    "graph.add_node('no_real_roots',no_real_roots)\n",
    "\n",
    "graph.add_edge(START, 'show_equation')\n",
    "graph.add_edge('show_equation', 'cal_d')\n",
    "graph.add_conditional_edges('cal_d', check_condition)\n",
    "graph.add_edge('real_roots', END)\n",
    "graph.add_edge('repeated_roots', END)\n",
    "graph.add_edge('no_real_roots', END)\n",
    "\n",
    "workflow = graph.compile()"
   ]
  },
  {
   "cell_type": "code",
   "execution_count": 19,
   "id": "831a6af6",
   "metadata": {},
   "outputs": [
    {
     "data": {
      "image/png": "[encoded data removed]",
      "text/plain": [
       "<langgraph.graph.state.CompiledStateGraph object at 0x00000208A080A3C0>"
      ]
     },
     "execution_count": 19,
     "metadata": {},
     "output_type": "execute_result"
    }
   ],
   "source": [
    "workflow"
   ]
  },
  {
   "cell_type": "code",
   "execution_count": 20,
   "id": "b841cf26",
   "metadata": {},
   "outputs": [
    {
     "data": {
      "text/plain": [
       "{'a': 1,\n",
       " 'b': -3,\n",
       " 'c': 2,\n",
       " 'equa': '1x^2 + -3x + 2 = 0',\n",
       " 'd': 1,\n",
       " 'result': 'The real roots are 2.0 and 1.0'}"
      ]
     },
     "execution_count": 20,
     "metadata": {},
     "output_type": "execute_result"
    }
   ],
   "source": [
    "workflow.invoke({'a': 1, 'b': -3, 'c': 2})"
   ]
  },
  {
   "cell_type": "code",
   "execution_count": null,
   "id": "568cb91d",
   "metadata": {},
   "outputs": [],
   "source": []
  }
 ],
 "metadata": {
  "kernelspec": {
   "display_name": "myenv",
   "language": "python",
   "name": "python3"
  },
  "language_info": {
   "codemirror_mode": {
    "name": "ipython",
    "version": 3
   },
   "file_extension": ".py",
   "mimetype": "text/x-python",
   "name": "python",
   "nbconvert_exporter": "python",
   "pygments_lexer": "ipython3",
   "version": "3.13.5"
  }
 },
 "nbformat": 4,
 "nbformat_minor": 5
}
