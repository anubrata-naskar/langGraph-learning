{
 "cells": [
  {
   "cell_type": "code",
   "execution_count": 1,
   "id": "79d8bc60",
   "metadata": {},
   "outputs": [],
   "source": [
    "from langgraph.graph import StateGraph, START, END\n",
    "from typing import TypedDict,Literal\n",
    "from langchain_google_genai import GoogleGenerativeAI\n",
    "from pydantic import BaseModel, Field\n",
    "from dotenv import load_dotenv\n",
    "load_dotenv()\n",
    "model = GoogleGenerativeAI(model=\"gemini-1.5-pro\")"
   ]
  },
  {
   "cell_type": "code",
   "execution_count": 2,
   "id": "e0b59c2f",
   "metadata": {},
   "outputs": [],
   "source": [
    "class SantimentSchema(TypedDict):\n",
    "    sentiment: Literal['positive', 'negative'] = Field(\n",
    "        description=\"The sentiment of review\")"
   ]
  },
  {
   "cell_type": "code",
   "execution_count": 16,
   "id": "b2b5c7ec",
   "metadata": {},
   "outputs": [],
   "source": [
    "input1 = \"- tell this review is positive or negative santiment. Write only single word 'positive' or 'negative'. Do not write any other words.\""
   ]
  },
  {
   "cell_type": "code",
   "execution_count": 17,
   "id": "4b479cbf",
   "metadata": {},
   "outputs": [],
   "source": [
    "class ReviewState(TypedDict):\n",
    "    review: str\n",
    "    sentiment: Literal['positive', 'negative']\n",
    "    diagnosis: dict\n",
    "    response: str"
   ]
  },
  {
   "cell_type": "code",
   "execution_count": 18,
   "id": "dd0796a1",
   "metadata": {},
   "outputs": [],
   "source": [
    "def find_santiment(review: ReviewState) -> ReviewState:\n",
    "    response = model.invoke(\n",
    "        review['review']+input1\n",
    "    )\n",
    "    review['sentiment'] = response\n",
    "    return review\n",
    "\n",
    "def check_santiment(review: ReviewState) -> Literal['positive_response', 'run_diagnosis']:\n",
    "    if review['sentiment'] == 'positive':\n",
    "        return 'positive_response'\n",
    "    else:\n",
    "        return 'run_diagnosis'\n",
    "    \n",
    "def positive_response(review: ReviewState) -> ReviewState:\n",
    "    review['response'] = \"This is a positive review\"\n",
    "    return review   \n",
    "\n",
    "def run_diagnosis(review: ReviewState) -> ReviewState: \n",
    "    review['diagnosis'] = model.invoke(\n",
    "        \"Run a diagnosis for this review: \"+review['review'])\n",
    "    review['response'] = \"This is a negative review. Diagnosis: \"+str(review['diagnosis'])\n",
    "    return review"
   ]
  },
  {
   "cell_type": "code",
   "execution_count": 19,
   "id": "d6f82bc4",
   "metadata": {},
   "outputs": [
    {
     "data": {
      "text/plain": [
       "<langgraph.graph.state.StateGraph at 0x17ef07eee70>"
      ]
     },
     "execution_count": 19,
     "metadata": {},
     "output_type": "execute_result"
    }
   ],
   "source": [
    "graph = StateGraph(ReviewState)\n",
    "\n",
    "graph.add_node(\"find_santiment\",find_santiment)\n",
    "graph.add_node(\"positive_response\",positive_response)\n",
    "graph.add_node(\"run_diagnosis\",run_diagnosis)\n",
    "\n",
    "\n",
    "graph.add_edge(START, \"find_santiment\")\n",
    "graph.add_conditional_edges(\"find_santiment\", check_santiment)\n",
    "graph.add_edge(\"positive_response\", END)\n",
    "graph.add_edge(\"run_diagnosis\", END)"
   ]
  },
  {
   "cell_type": "code",
   "execution_count": 20,
   "id": "5d0bf521",
   "metadata": {},
   "outputs": [
    {
     "data": {
      "image/png": "[encoded data removed]",
      "text/plain": [
       "<langgraph.graph.state.CompiledStateGraph object at 0x0000017EF1286E90>"
      ]
     },
     "execution_count": 20,
     "metadata": {},
     "output_type": "execute_result"
    }
   ],
   "source": [
    "workflow = graph.compile()\n",
    "workflow"
   ]
  },
  {
   "cell_type": "code",
   "execution_count": 22,
   "id": "efc4ba92",
   "metadata": {},
   "outputs": [
    {
     "data": {
      "text/plain": [
       "{'review': 'There are several issue in this product',\n",
       " 'sentiment': 'negative',\n",
       " 'diagnosis': 'The review \"There are several issues in this product\" is **too vague and unhelpful**.  Here\\'s a diagnosis of its problems:\\n\\n* **Lack of Specificity:** The biggest issue is the lack of detail.  \"Several issues\" doesn\\'t tell the reader *anything* about what\\'s wrong with the product.  Are the issues related to functionality, durability, design, or something else entirely?\\n* **Low Information Value:**  Because it\\'s so vague, the review provides almost no useful information to potential buyers or the product manufacturer.  It doesn\\'t help anyone make an informed decision.\\n* **Reduced Credibility:** The lack of specifics can make the reviewer seem less credible.  Readers might assume the reviewer is exaggerating, didn\\'t actually use the product, or is just trying to leave a negative review without justification.\\n* **Unactionable Feedback for the Manufacturer:**  If a company receives this review, they have no idea how to improve their product.  They don\\'t know what needs fixing.\\n\\n\\nTo improve this review, the writer needs to:\\n\\n* **Identify the specific issues:**  List the problems clearly. For example, \"The battery life is short,\" \"The buttons are sticky,\" or \"The software crashes frequently.\"\\n* **Provide details and examples:**  Elaborate on each issue. For example, instead of \"The battery life is short,\" say, \"The battery only lasts for 2 hours on a single charge, even with minimal usage.\"\\n* **Explain the impact of the issues:** How do these problems affect the user experience? For example, \"The short battery life makes it impossible to use the device for extended periods without recharging.\"\\n\\nA revised review might look like this:\\n\\n\"I\\'m disappointed with this product due to several issues. Firstly, the battery life is incredibly short, lasting only about 2 hours on a single charge. This makes it impractical for my daily commute. Secondly, the buttons are stiff and unresponsive, making it difficult to navigate the menus. Finally, the software has crashed on me multiple times, resulting in lost data.  I expected better quality for this price.\"',\n",
       " 'response': 'This is a negative review. Diagnosis: The review \"There are several issues in this product\" is **too vague and unhelpful**.  Here\\'s a diagnosis of its problems:\\n\\n* **Lack of Specificity:** The biggest issue is the lack of detail.  \"Several issues\" doesn\\'t tell the reader *anything* about what\\'s wrong with the product.  Are the issues related to functionality, durability, design, or something else entirely?\\n* **Low Information Value:**  Because it\\'s so vague, the review provides almost no useful information to potential buyers or the product manufacturer.  It doesn\\'t help anyone make an informed decision.\\n* **Reduced Credibility:** The lack of specifics can make the reviewer seem less credible.  Readers might assume the reviewer is exaggerating, didn\\'t actually use the product, or is just trying to leave a negative review without justification.\\n* **Unactionable Feedback for the Manufacturer:**  If a company receives this review, they have no idea how to improve their product.  They don\\'t know what needs fixing.\\n\\n\\nTo improve this review, the writer needs to:\\n\\n* **Identify the specific issues:**  List the problems clearly. For example, \"The battery life is short,\" \"The buttons are sticky,\" or \"The software crashes frequently.\"\\n* **Provide details and examples:**  Elaborate on each issue. For example, instead of \"The battery life is short,\" say, \"The battery only lasts for 2 hours on a single charge, even with minimal usage.\"\\n* **Explain the impact of the issues:** How do these problems affect the user experience? For example, \"The short battery life makes it impossible to use the device for extended periods without recharging.\"\\n\\nA revised review might look like this:\\n\\n\"I\\'m disappointed with this product due to several issues. Firstly, the battery life is incredibly short, lasting only about 2 hours on a single charge. This makes it impractical for my daily commute. Secondly, the buttons are stiff and unresponsive, making it difficult to navigate the menus. Finally, the software has crashed on me multiple times, resulting in lost data.  I expected better quality for this price.\"'}"
      ]
     },
     "execution_count": 22,
     "metadata": {},
     "output_type": "execute_result"
    }
   ],
   "source": [
    "answer = workflow.invoke({'review': \"There are several issue in this product\"})\n",
    "answer"
   ]
  },
  {
   "cell_type": "code",
   "execution_count": null,
   "id": "7b4fd423",
   "metadata": {},
   "outputs": [],
   "source": []
  }
 ],
 "metadata": {
  "kernelspec": {
   "display_name": "myenv",
   "language": "python",
   "name": "python3"
  },
  "language_info": {
   "codemirror_mode": {
    "name": "ipython",
    "version": 3
   },
   "file_extension": ".py",
   "mimetype": "text/x-python",
   "name": "python",
   "nbconvert_exporter": "python",
   "pygments_lexer": "ipython3",
   "version": "3.13.5"
  }
 },
 "nbformat": 4,
 "nbformat_minor": 5
}
