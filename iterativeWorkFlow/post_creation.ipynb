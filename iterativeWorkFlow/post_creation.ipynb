{
 "cells": [
  {
   "cell_type": "code",
   "execution_count": 1,
   "id": "d01b82e9",
   "metadata": {},
   "outputs": [],
   "source": [
    "from langgraph.graph import StateGraph, START, END\n",
    "from typing import TypedDict, Literal, Annotated\n",
    "from langchain_google_genai import GoogleGenerativeAI\n",
    "from langchain_core.messages import HumanMessage, AIMessage, SystemMessage  "
   ]
  },
  {
   "cell_type": "code",
   "execution_count": 2,
   "id": "2e459880",
   "metadata": {},
   "outputs": [
    {
     "data": {
      "text/plain": [
       "True"
      ]
     },
     "execution_count": 2,
     "metadata": {},
     "output_type": "execute_result"
    }
   ],
   "source": [
    "from dotenv import load_dotenv\n",
    "load_dotenv()"
   ]
  },
  {
   "cell_type": "code",
   "execution_count": 3,
   "id": "a9b92aa7",
   "metadata": {},
   "outputs": [],
   "source": [
    "generate_llm = GoogleGenerativeAI(model=\"gemini-1.5-pro\")\n",
    "evaluate_llm = GoogleGenerativeAI(model=\"gemini-1.5-pro\")\n",
    "optimizer_llm = GoogleGenerativeAI(model=\"gemini-1.5-pro\")"
   ]
  },
  {
   "cell_type": "code",
   "execution_count": 4,
   "id": "6b756267",
   "metadata": {},
   "outputs": [],
   "source": [
    "class PostCreationState(TypedDict):\n",
    "    topic : str\n",
    "    content : str\n",
    "    evaluation : Literal[\"good\", \"bad\"]\n",
    "    feedback : str\n",
    "    iteration: int\n",
    "    max_iterations: int"
   ]
  },
  {
   "cell_type": "code",
   "execution_count": 5,
   "id": "d0f51187",
   "metadata": {},
   "outputs": [],
   "source": [
    "def generate(state: PostCreationState) -> PostCreationState:\n",
    "    messages = [\n",
    "        SystemMessage(content=\"You are a funny and clever Twitter/X influencer.\"),\n",
    "        HumanMessage(content=f\"\"\"\n",
    "            Write a short, original, and hilarious tweet on the topic: \"{state['topic']}\".\n",
    "\n",
    "            Rules:\n",
    "            - Do NOT use question-answer format.\n",
    "            - Max 280 characters.\n",
    "            - Use observational humor, irony, sarcasm, or cultural references.\n",
    "            - Think in meme logic, punchlines, or relatable takes.\n",
    "            - Use simple, day to day english.\n",
    "            \"\"\")]\n",
    "    \n",
    "    response = generate_llm.invoke(messages)\n",
    "    state['content'] = response\n",
    "    return state"
   ]
  },
  {
   "cell_type": "code",
   "execution_count": 6,
   "id": "3e8df95e",
   "metadata": {},
   "outputs": [],
   "source": [
    "def evaluate(state: PostCreationState) -> PostCreationState:\n",
    "    messages = [\n",
    "        SystemMessage(content=\"You are a social media expert.\"),\n",
    "        HumanMessage(content=f\"\"\"\n",
    "            Evaluate the following tweet for humor and engagement:\n",
    "            \"{state['content']}\"\n",
    "\n",
    "            Rules:\n",
    "            - Rate as \"good\" or \"bad\".\n",
    "            - Provide constructive feedback.\n",
    "            \"\"\")]\n",
    "    \n",
    "    response = evaluate_llm.invoke(messages)\n",
    "    state['evaluation'] = response\n",
    "    state['feedback'] = response\n",
    "    return state"
   ]
  },
  {
   "cell_type": "code",
   "execution_count": 16,
   "id": "dbeafe26",
   "metadata": {},
   "outputs": [],
   "source": [
    "def optimize(state: PostCreationState) -> PostCreationState:\n",
    "    messages = [\n",
    "        SystemMessage(content=\"You are a social media optimization expert.\"),\n",
    "        HumanMessage(content=f\"\"\"\n",
    "            Optimize the following tweet based on feedback:\n",
    "            \"{state['content']}\"\n",
    "            Feedback: \"{state['feedback']}\"\n",
    "\n",
    "            Rules:\n",
    "            - Make it more engaging and humorous.\n",
    "            - Keep it under 280 characters.\n",
    "            \"\"\")]\n",
    "    \n",
    "    response = optimizer_llm.invoke(messages)\n",
    "    state['content'] = response\n",
    "    \n",
    "    if state['evaluation'] == \"good\" or state['iteration'] >= state['max_iterations']:\n",
    "        return END(state)\n",
    "    \n",
    "    state['iteration'] += 1\n",
    "    return state"
   ]
  },
  {
   "cell_type": "code",
   "execution_count": 17,
   "id": "c9855b9d",
   "metadata": {},
   "outputs": [],
   "source": [
    "def route_evaluation(state: PostCreationState):\n",
    "    if state['evaluation'] == \"good\" or state['iteration'] >= state['max_iterations']:\n",
    "        return 'exit'\n",
    "    else:\n",
    "        return 'try_again'"
   ]
  },
  {
   "cell_type": "code",
   "execution_count": 18,
   "id": "73613bf7",
   "metadata": {},
   "outputs": [
    {
     "data": {
      "text/plain": [
       "<langgraph.graph.state.StateGraph at 0x1abd069e490>"
      ]
     },
     "execution_count": 18,
     "metadata": {},
     "output_type": "execute_result"
    }
   ],
   "source": [
    "graph = StateGraph(PostCreationState)\n",
    "\n",
    "graph.add_node(\"generate\", generate)\n",
    "graph.add_node(\"evaluate\", evaluate)\n",
    "graph.add_node(\"optimize\", optimize)\n",
    "\n",
    "graph.add_edge(START, \"generate\")\n",
    "graph.add_edge(\"generate\", \"evaluate\")\n",
    "\n",
    "graph.add_conditional_edges(\"evaluate\", route_evaluation, {'exit': END, 'try_again': \"optimize\"})\n",
    "graph.add_edge(\"optimize\", \"evaluate\")"
   ]
  },
  {
   "cell_type": "code",
   "execution_count": 19,
   "id": "f302a348",
   "metadata": {},
   "outputs": [
    {
     "data": {
      "image/png": "[encoded data removed]",
      "text/plain": [
       "<langgraph.graph.state.CompiledStateGraph object at 0x000001ABD069ED50>"
      ]
     },
     "execution_count": 19,
     "metadata": {},
     "output_type": "execute_result"
    }
   ],
   "source": [
    "workflow = graph.compile()\n",
    "workflow"
   ]
  },
  {
   "cell_type": "code",
   "execution_count": 11,
   "id": "272ee5c3",
   "metadata": {},
   "outputs": [],
   "source": [
    "init_state = {\n",
    "    'topic' : \"AI in bihar\",\n",
    "    'iteration' : 1,\n",
    "    'max_iterations': 3   \n",
    "}"
   ]
  },
  {
   "cell_type": "code",
   "execution_count": 20,
   "id": "029d17f9",
   "metadata": {},
   "outputs": [
    {
     "name": "stdout",
     "output_type": "stream",
     "text": [
      "Final result:\n",
      "Topic: AI in bihar\n",
      "Content: **Optimized Option 1:**\n",
      "\n",
      "My Dadi's getting an AI crash course in Mithila painting! 😂  Wish me luck explaining the algorithm's \"interpretation.\"  Pray for my sanity. 🙏 #AIinBihar #LittiChokhaAndAlgorithms  [Image: Mockup of Dadi side-eyeing a robot holding a Mithila painting upside down]\n",
      "\n",
      "\n",
      "**Reasoning for Optimization:**\n",
      "\n",
      "* **Enhanced Humor:** Added \"crash course,\" \"Wish me luck explaining the algorithm's 'interpretation',\" and \"Pray for my sanity\" to heighten the humor and relatability.  The image suggestion is now *very* specific, maximizing the comedic potential.\n",
      "* **Conciseness:** Slightly shortened for impact while retaining essential elements.\n",
      "* **Focus on Visual:**  The image suggestion is crucial for this tweet's success.  The specific mockup idea plays directly into the humor and generational clash.\n",
      "\n",
      "\n",
      "\n",
      "**Optimized Option 2 (If image isn't feasible):**\n",
      "\n",
      "AI vs. Dadi's Mithila painting expertise!  Think a robot can decipher her symbolic masterpieces? 🤔 Let the art battle commence! #AIinBihar #LittiChokhaAndAlgorithms\n",
      "\n",
      "**Reasoning for Optimization:**\n",
      "\n",
      "* **More Specific Question:**  Changed the question to directly relate to the Dadi/AI/Mithila dynamic.\n",
      "* **Stronger Hook:**  \"AI vs. Dadi's Mithila painting expertise!\" is more engaging than the original.\n",
      "* **Playful Tone:** \"Let the art battle commence!\" adds a lighthearted competitive element.\n",
      "\n",
      "\n",
      "I've prioritized Option 1 as per the feedback, focusing on maximizing its humor and visual impact. Option 2 is a strong alternative if an image isn't possible, but the visual route will likely yield better results.\n",
      "Evaluation: Good.\n",
      "\n",
      "**Feedback:**\n",
      "\n",
      "* **Option 1 Strengths:** The humor is significantly improved. The specific image suggestion is excellent and would likely drive high engagement. The hashtags are relevant and quirky.  The phrasing \"Pray for my sanity\" adds a relatable touch, especially for those familiar with explaining tech to older relatives.\n",
      "\n",
      "* **Option 1 Potential Weakness:** While the humor is strong, consider A/B testing variations of the wording.  \"Dadi\" may not be universally understood (though context clues help).  Consider adding a brief explanation like \"Grandma (Dadi)\" if space allows or using \"Grandma\" primarily and including \"Dadi\" as a parenthetical. This could broaden the appeal.\n",
      "\n",
      "* **Option 2 Strengths:**  A solid backup if visuals aren't possible. The competitive framing is engaging.\n",
      "\n",
      "* **Option 2 Potential Weakness:** While good, it lacks the punch of Option 1.  Consider adding a bit more humor or intrigue.  For example:  \"Can AI decode centuries of tradition?  My Dadi's Mithila paintings vs. a robot.  Place your bets! #AIinBihar #LittiChokhaAndAlgorithms\"\n",
      "\n",
      "\n",
      "* **Overall:**  You've done an excellent job optimizing these tweets, particularly Option 1. The focus on visual humor is smart, and the specific scenario you've created is highly shareable.  The optimized versions are much stronger than a more generic approach.  The only minor suggestion is to consider clarifying \"Dadi\" and A/B testing slight variations for maximum reach.\n",
      "Iterations completed: 3\n",
      "Feedback: Good.\n",
      "\n",
      "**Feedback:**\n",
      "\n",
      "* **Option 1 Strengths:** The humor is significantly improved. The specific image suggestion is excellent and would likely drive high engagement. The hashtags are relevant and quirky.  The phrasing \"Pray for my sanity\" adds a relatable touch, especially for those familiar with explaining tech to older relatives.\n",
      "\n",
      "* **Option 1 Potential Weakness:** While the humor is strong, consider A/B testing variations of the wording.  \"Dadi\" may not be universally understood (though context clues help).  Consider adding a brief explanation like \"Grandma (Dadi)\" if space allows or using \"Grandma\" primarily and including \"Dadi\" as a parenthetical. This could broaden the appeal.\n",
      "\n",
      "* **Option 2 Strengths:**  A solid backup if visuals aren't possible. The competitive framing is engaging.\n",
      "\n",
      "* **Option 2 Potential Weakness:** While good, it lacks the punch of Option 1.  Consider adding a bit more humor or intrigue.  For example:  \"Can AI decode centuries of tradition?  My Dadi's Mithila paintings vs. a robot.  Place your bets! #AIinBihar #LittiChokhaAndAlgorithms\"\n",
      "\n",
      "\n",
      "* **Overall:**  You've done an excellent job optimizing these tweets, particularly Option 1. The focus on visual humor is smart, and the specific scenario you've created is highly shareable.  The optimized versions are much stronger than a more generic approach.  The only minor suggestion is to consider clarifying \"Dadi\" and A/B testing slight variations for maximum reach.\n"
     ]
    }
   ],
   "source": [
    "result = workflow.invoke(init_state)\n",
    "print(\"Final result:\")\n",
    "print(f\"Topic: {result['topic']}\")\n",
    "print(f\"Content: {result['content']}\")\n",
    "print(f\"Evaluation: {result['evaluation']}\")\n",
    "print(f\"Iterations completed: {result['iteration']}\")\n",
    "print(f\"Feedback: {result['feedback']}\")\n"
   ]
  }
 ],
 "metadata": {
  "kernelspec": {
   "display_name": "myenv",
   "language": "python",
   "name": "python3"
  },
  "language_info": {
   "codemirror_mode": {
    "name": "ipython",
    "version": 3
   },
   "file_extension": ".py",
   "mimetype": "text/x-python",
   "name": "python",
   "nbconvert_exporter": "python",
   "pygments_lexer": "ipython3",
   "version": "3.13.5"
  }
 },
 "nbformat": 4,
 "nbformat_minor": 5
}
